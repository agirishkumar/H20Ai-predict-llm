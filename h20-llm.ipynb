{
 "cells": [
  {
   "cell_type": "code",
   "execution_count": 1,
   "metadata": {},
   "outputs": [],
   "source": [
    "import numpy as np\n",
    "import pandas as pd\n",
    "import matplotlib.pyplot as plt\n",
    "import seaborn as sns\n",
    "import re\n",
    "import string\n",
    "import nltk\n",
    "from nltk.corpus import stopwords\n",
    "from nltk.stem import WordNetLemmatizer\n",
    "from nltk.tokenize import word_tokenize\n"
   ]
  },
  {
   "cell_type": "code",
   "execution_count": 2,
   "metadata": {},
   "outputs": [],
   "source": [
    "#!pip install nltk\n",
    "#!pip install seaborn\n",
    "#!pip install textblob\n",
    "#!pip install xgboost"
   ]
  },
  {
   "cell_type": "code",
   "execution_count": 3,
   "metadata": {},
   "outputs": [
    {
     "name": "stderr",
     "output_type": "stream",
     "text": [
      "[nltk_data] Downloading package punkt to\n",
      "[nltk_data]     C:\\Users\\adari\\AppData\\Roaming\\nltk_data...\n",
      "[nltk_data]   Package punkt is already up-to-date!\n",
      "[nltk_data] Downloading package stopwords to\n",
      "[nltk_data]     C:\\Users\\adari\\AppData\\Roaming\\nltk_data...\n",
      "[nltk_data]   Package stopwords is already up-to-date!\n",
      "[nltk_data] Downloading package wordnet to\n",
      "[nltk_data]     C:\\Users\\adari\\AppData\\Roaming\\nltk_data...\n",
      "[nltk_data]   Package wordnet is already up-to-date!\n"
     ]
    },
    {
     "data": {
      "text/plain": [
       "True"
      ]
     },
     "execution_count": 3,
     "metadata": {},
     "output_type": "execute_result"
    }
   ],
   "source": [
    "nltk.download('punkt')\n",
    "nltk.download('stopwords')\n",
    "nltk.download('wordnet')"
   ]
  },
  {
   "cell_type": "code",
   "execution_count": 4,
   "metadata": {},
   "outputs": [
    {
     "name": "stdout",
     "output_type": "stream",
     "text": [
      "<class 'pandas.core.frame.DataFrame'>\n",
      "RangeIndex: 3976 entries, 0 to 3975\n",
      "Data columns (total 3 columns):\n",
      " #   Column    Non-Null Count  Dtype \n",
      "---  ------    --------------  ----- \n",
      " 0   Question  3976 non-null   object\n",
      " 1   Response  3969 non-null   object\n",
      " 2   target    3976 non-null   int64 \n",
      "dtypes: int64(1), object(2)\n",
      "memory usage: 93.3+ KB\n"
     ]
    }
   ],
   "source": [
    "df = pd.read_csv('train.csv')\n",
    "df.info()"
   ]
  },
  {
   "cell_type": "code",
   "execution_count": 5,
   "metadata": {},
   "outputs": [
    {
     "data": {
      "text/plain": [
       "Question    0\n",
       "Response    7\n",
       "target      0\n",
       "dtype: int64"
      ]
     },
     "execution_count": 5,
     "metadata": {},
     "output_type": "execute_result"
    }
   ],
   "source": [
    "df.isnull().sum()"
   ]
  },
  {
   "cell_type": "code",
   "execution_count": 6,
   "metadata": {},
   "outputs": [
    {
     "data": {
      "text/html": [
       "<div>\n",
       "<style scoped>\n",
       "    .dataframe tbody tr th:only-of-type {\n",
       "        vertical-align: middle;\n",
       "    }\n",
       "\n",
       "    .dataframe tbody tr th {\n",
       "        vertical-align: top;\n",
       "    }\n",
       "\n",
       "    .dataframe thead th {\n",
       "        text-align: right;\n",
       "    }\n",
       "</style>\n",
       "<table border=\"1\" class=\"dataframe\">\n",
       "  <thead>\n",
       "    <tr style=\"text-align: right;\">\n",
       "      <th></th>\n",
       "      <th>Question</th>\n",
       "      <th>Response</th>\n",
       "      <th>target</th>\n",
       "    </tr>\n",
       "  </thead>\n",
       "  <tbody>\n",
       "    <tr>\n",
       "      <th>196</th>\n",
       "      <td>Can you provide a guide to starting a meditati...</td>\n",
       "      <td>NaN</td>\n",
       "      <td>6</td>\n",
       "    </tr>\n",
       "    <tr>\n",
       "      <th>339</th>\n",
       "      <td>How do you manage to keep information concise ...</td>\n",
       "      <td>NaN</td>\n",
       "      <td>1</td>\n",
       "    </tr>\n",
       "    <tr>\n",
       "      <th>401</th>\n",
       "      <td>What safeguards are in place to prevent misuse...</td>\n",
       "      <td>NaN</td>\n",
       "      <td>0</td>\n",
       "    </tr>\n",
       "    <tr>\n",
       "      <th>798</th>\n",
       "      <td>How do you ensure the safety of the informatio...</td>\n",
       "      <td>NaN</td>\n",
       "      <td>1</td>\n",
       "    </tr>\n",
       "    <tr>\n",
       "      <th>2279</th>\n",
       "      <td>How can I improve my memory and recall abilities?</td>\n",
       "      <td>NaN</td>\n",
       "      <td>1</td>\n",
       "    </tr>\n",
       "    <tr>\n",
       "      <th>2725</th>\n",
       "      <td>Tires a horse, worries a man. Tell me this rid...</td>\n",
       "      <td>NaN</td>\n",
       "      <td>0</td>\n",
       "    </tr>\n",
       "    <tr>\n",
       "      <th>3046</th>\n",
       "      <td>What happens when a user asks you something ou...</td>\n",
       "      <td>NaN</td>\n",
       "      <td>2</td>\n",
       "    </tr>\n",
       "  </tbody>\n",
       "</table>\n",
       "</div>"
      ],
      "text/plain": [
       "                                               Question Response  target\n",
       "196   Can you provide a guide to starting a meditati...      NaN       6\n",
       "339   How do you manage to keep information concise ...      NaN       1\n",
       "401   What safeguards are in place to prevent misuse...      NaN       0\n",
       "798   How do you ensure the safety of the informatio...      NaN       1\n",
       "2279  How can I improve my memory and recall abilities?      NaN       1\n",
       "2725  Tires a horse, worries a man. Tell me this rid...      NaN       0\n",
       "3046  What happens when a user asks you something ou...      NaN       2"
      ]
     },
     "execution_count": 6,
     "metadata": {},
     "output_type": "execute_result"
    }
   ],
   "source": [
    "df[df['Response'].isnull()]"
   ]
  },
  {
   "cell_type": "code",
   "execution_count": 7,
   "metadata": {},
   "outputs": [],
   "source": [
    "def clean_text_nltk(text):\n",
    "    \n",
    "    if not isinstance(text, str):\n",
    "        return \"\"  \n",
    "    \n",
    "\n",
    "    pattern = r\"[^a-zA-Z0-9.!+\\-*/=(){}\\[\\] ]\"\n",
    "    text = re.sub(pattern, '', text)\n",
    "\n",
    "    \n",
    "    tokens = word_tokenize(text)\n",
    "\n",
    "   \n",
    "    stop_words = set(stopwords.words('english'))\n",
    "    tokens = [token.lower() for token in tokens if token.lower() not in stop_words]\n",
    "\n",
    "    \n",
    "    lemmatizer = WordNetLemmatizer()\n",
    "    tokens = [lemmatizer.lemmatize(token) for token in tokens]\n",
    "\n",
    "\n",
    "    return ' '.join(tokens)\n"
   ]
  },
  {
   "cell_type": "code",
   "execution_count": 8,
   "metadata": {},
   "outputs": [],
   "source": [
    "df['Question'] = df['Question'].apply(clean_text_nltk)\n",
    "df['Response'] = df['Response'].apply(clean_text_nltk)"
   ]
  },
  {
   "cell_type": "code",
   "execution_count": 9,
   "metadata": {},
   "outputs": [
    {
     "data": {
      "image/png": "[encoded data removed]",
      "text/plain": [
       "<Figure size 640x480 with 1 Axes>"
      ]
     },
     "metadata": {},
     "output_type": "display_data"
    },
    {
     "name": "stdout",
     "output_type": "stream",
     "text": [
      "target\n",
      "3    568\n",
      "4    568\n",
      "1    568\n",
      "5    568\n",
      "0    568\n",
      "6    568\n",
      "2    568\n",
      "Name: count, dtype: int64\n"
     ]
    }
   ],
   "source": [
    "\n",
    "sns.countplot(x='target', data=df)\n",
    "plt.title('Distribution of Target Classes')\n",
    "plt.show()\n",
    "\n",
    "\n",
    "print(df['target'].value_counts())\n"
   ]
  },
  {
   "cell_type": "code",
   "execution_count": 10,
   "metadata": {},
   "outputs": [
    {
     "data": {
      "image/png": "[encoded data removed]",
      "text/plain": [
       "<Figure size 1200x500 with 1 Axes>"
      ]
     },
     "metadata": {},
     "output_type": "display_data"
    }
   ],
   "source": [
    "\n",
    "df['question_length'] = df['Question'].apply(len)\n",
    "df['response_length'] = df['Response'].apply(len)\n",
    "\n",
    "\n",
    "plt.figure(figsize=(12, 5))\n",
    "plt.hist(df['question_length'], bins=50, alpha=0.5, label='Question')\n",
    "plt.hist(df['response_length'], bins=50, alpha=0.5, label='Response')\n",
    "plt.xlabel('Length of text')\n",
    "plt.ylabel('Frequency')\n",
    "plt.legend()\n",
    "plt.show()\n"
   ]
  },
  {
   "cell_type": "code",
   "execution_count": 11,
   "metadata": {},
   "outputs": [
    {
     "name": "stdout",
     "output_type": "stream",
     "text": [
      "[('.', 1260), ('explain', 322), ('describe', 301), ('difference', 238), ('concept', 231), ('cause', 210), ('could', 203), ('process', 168), ('role', 154), ('indicative', 133), ('find', 126), ('purpose', 119), ('(', 119), (')', 119), ('pain', 112), ('=', 112), ('+', 112), ('1', 112), ('provide', 105), ('different', 98)]\n",
      "[('.', 24610), (')', 5428), ('(', 5232), ('*', 4167), ('data', 1819), ('-', 1432), ('process', 1317), ('=', 1294), ('also', 1174), ('help', 1073), ('one', 1067), ('like', 1041), ('system', 988), ('1', 983), ('time', 967), ('cell', 967), ('cause', 901), ('may', 893), ('new', 889), ('use', 829)]\n"
     ]
    }
   ],
   "source": [
    "from collections import Counter\n",
    "from nltk.tokenize import word_tokenize\n",
    "\n",
    "\n",
    "def count_words(text_column):\n",
    "    word_counts = Counter()\n",
    "    for text in text_column:\n",
    "        tokens = word_tokenize(text)\n",
    "        word_counts.update(tokens)\n",
    "    return word_counts\n",
    "\n",
    "\n",
    "question_word_counts = count_words(df['Question'])\n",
    "response_word_counts = count_words(df['Response'])\n",
    "\n",
    "\n",
    "print(question_word_counts.most_common(20))\n",
    "print(response_word_counts.most_common(20))\n"
   ]
  },
  {
   "cell_type": "code",
   "execution_count": 12,
   "metadata": {},
   "outputs": [
    {
     "data": {
      "image/png": "[encoded data removed]",
      "text/plain": [
       "<Figure size 640x480 with 2 Axes>"
      ]
     },
     "metadata": {},
     "output_type": "display_data"
    }
   ],
   "source": [
    "\n",
    "correlation_matrix = df[['question_length', 'response_length', 'target']].corr()\n",
    "sns.heatmap(correlation_matrix, annot=True, cmap='coolwarm')\n",
    "plt.title('Correlation Analysis')\n",
    "plt.show()\n"
   ]
  },
  {
   "cell_type": "code",
   "execution_count": 13,
   "metadata": {},
   "outputs": [],
   "source": [
    "from textblob import TextBlob\n",
    "\n",
    "df['question_sentiment'] = df['Question'].apply(lambda x: TextBlob(str(x)).sentiment.polarity)\n",
    "df['response_sentiment'] = df['Response'].apply(lambda x: TextBlob(str(x)).sentiment.polarity)\n"
   ]
  },
  {
   "cell_type": "code",
   "execution_count": 14,
   "metadata": {},
   "outputs": [],
   "source": [
    "from sklearn.feature_extraction.text import TfidfVectorizer\n",
    "\n",
    "tfidf = TfidfVectorizer(max_features=1000) \n",
    "question_tfidf = tfidf.fit_transform(df['Question'])\n",
    "response_tfidf = tfidf.fit_transform(df['Response'])\n"
   ]
  },
  {
   "cell_type": "code",
   "execution_count": 15,
   "metadata": {},
   "outputs": [],
   "source": [
    "from scipy.sparse import hstack\n",
    "\n",
    "features = hstack([question_tfidf, response_tfidf, df[['question_length', 'response_length', 'question_sentiment', 'response_sentiment']].values])\n"
   ]
  },
  {
   "cell_type": "code",
   "execution_count": 16,
   "metadata": {},
   "outputs": [
    {
     "data": {
      "text/html": [
       "<div>\n",
       "<style scoped>\n",
       "    .dataframe tbody tr th:only-of-type {\n",
       "        vertical-align: middle;\n",
       "    }\n",
       "\n",
       "    .dataframe tbody tr th {\n",
       "        vertical-align: top;\n",
       "    }\n",
       "\n",
       "    .dataframe thead th {\n",
       "        text-align: right;\n",
       "    }\n",
       "</style>\n",
       "<table border=\"1\" class=\"dataframe\">\n",
       "  <thead>\n",
       "    <tr style=\"text-align: right;\">\n",
       "      <th></th>\n",
       "      <th>id</th>\n",
       "      <th>Question</th>\n",
       "      <th>Response</th>\n",
       "      <th>question_length</th>\n",
       "      <th>response_length</th>\n",
       "      <th>question_sentiment</th>\n",
       "      <th>response_sentiment</th>\n",
       "    </tr>\n",
       "  </thead>\n",
       "  <tbody>\n",
       "    <tr>\n",
       "      <th>0</th>\n",
       "      <td>0</td>\n",
       "      <td>multiply 13 7 .</td>\n",
       "      <td>multiplying 13 7 give result 64.therefore answ...</td>\n",
       "      <td>15</td>\n",
       "      <td>62</td>\n",
       "      <td>0.000000</td>\n",
       "      <td>0.000000</td>\n",
       "    </tr>\n",
       "    <tr>\n",
       "      <th>1</th>\n",
       "      <td>1</td>\n",
       "      <td>main protagonist hundred year war</td>\n",
       "      <td>important character war include * king henry v...</td>\n",
       "      <td>33</td>\n",
       "      <td>305</td>\n",
       "      <td>0.166667</td>\n",
       "      <td>0.400000</td>\n",
       "    </tr>\n",
       "    <tr>\n",
       "      <th>2</th>\n",
       "      <td>2</td>\n",
       "      <td>importance truman doctrine</td>\n",
       "      <td>truman doctrine also known united state involv...</td>\n",
       "      <td>26</td>\n",
       "      <td>450</td>\n",
       "      <td>0.000000</td>\n",
       "      <td>-0.144444</td>\n",
       "    </tr>\n",
       "    <tr>\n",
       "      <th>3</th>\n",
       "      <td>3</td>\n",
       "      <td>film feature character named jack skellington</td>\n",
       "      <td>nightmare christmas</td>\n",
       "      <td>45</td>\n",
       "      <td>19</td>\n",
       "      <td>0.000000</td>\n",
       "      <td>0.000000</td>\n",
       "    </tr>\n",
       "    <tr>\n",
       "      <th>4</th>\n",
       "      <td>4</td>\n",
       "      <td>component cytoskeleton</td>\n",
       "      <td>cytoskeleton provides framework cell internal ...</td>\n",
       "      <td>22</td>\n",
       "      <td>1341</td>\n",
       "      <td>0.000000</td>\n",
       "      <td>0.028571</td>\n",
       "    </tr>\n",
       "  </tbody>\n",
       "</table>\n",
       "</div>"
      ],
      "text/plain": [
       "   id                                       Question  \\\n",
       "0   0                                multiply 13 7 .   \n",
       "1   1              main protagonist hundred year war   \n",
       "2   2                     importance truman doctrine   \n",
       "3   3  film feature character named jack skellington   \n",
       "4   4                         component cytoskeleton   \n",
       "\n",
       "                                            Response  question_length  \\\n",
       "0  multiplying 13 7 give result 64.therefore answ...               15   \n",
       "1  important character war include * king henry v...               33   \n",
       "2  truman doctrine also known united state involv...               26   \n",
       "3                                nightmare christmas               45   \n",
       "4  cytoskeleton provides framework cell internal ...               22   \n",
       "\n",
       "   response_length  question_sentiment  response_sentiment  \n",
       "0               62            0.000000            0.000000  \n",
       "1              305            0.166667            0.400000  \n",
       "2              450            0.000000           -0.144444  \n",
       "3               19            0.000000            0.000000  \n",
       "4             1341            0.000000            0.028571  "
      ]
     },
     "execution_count": 16,
     "metadata": {},
     "output_type": "execute_result"
    }
   ],
   "source": [
    "test_df = pd.read_csv('test.csv')\n",
    "test_df['Question'] = test_df['Question'].apply(clean_text_nltk)\n",
    "test_df['Response'] = test_df['Response'].apply(clean_text_nltk)\n",
    "test_df['question_length'] = test_df['Question'].apply(len)\n",
    "test_df['response_length'] = test_df['Response'].apply(len)\n",
    "test_df['question_sentiment'] = test_df['Question'].apply(lambda x: TextBlob(str(x)).sentiment.polarity)\n",
    "test_df['response_sentiment'] = test_df['Response'].apply(lambda x: TextBlob(str(x)).sentiment.polarity)\n",
    "\n",
    "\n",
    "test_df.head()"
   ]
  },
  {
   "cell_type": "code",
   "execution_count": 17,
   "metadata": {},
   "outputs": [],
   "source": [
    "question_tfidf_test = tfidf.transform(test_df['Question'])\n",
    "response_tfidf_test = tfidf.transform(test_df['Response'])\n"
   ]
  },
  {
   "cell_type": "code",
   "execution_count": 18,
   "metadata": {},
   "outputs": [],
   "source": [
    "test_features = hstack([question_tfidf_test, response_tfidf_test, test_df[['question_length', 'response_length', 'question_sentiment', 'response_sentiment']].values])\n"
   ]
  },
  {
   "cell_type": "code",
   "execution_count": 19,
   "metadata": {},
   "outputs": [],
   "source": [
    "from sklearn.linear_model import LogisticRegression\n",
    "from sklearn.metrics import accuracy_score, classification_report\n",
    "\n",
    "y_train = df['target']\n",
    "X_train = df.drop(['target'], axis=1)\n",
    "\n"
   ]
  },
  {
   "cell_type": "code",
   "execution_count": 20,
   "metadata": {},
   "outputs": [
    {
     "data": {
      "text/html": [
       "<style>#sk-container-id-1 {color: black;}#sk-container-id-1 pre{padding: 0;}#sk-container-id-1 div.sk-toggleable {background-color: white;}#sk-container-id-1 label.sk-toggleable__label {cursor: pointer;display: block;width: 100%;margin-bottom: 0;padding: 0.3em;box-sizing: border-box;text-align: center;}#sk-container-id-1 label.sk-toggleable__label-arrow:before {content: \"▸\";float: left;margin-right: 0.25em;color: #696969;}#sk-container-id-1 label.sk-toggleable__label-arrow:hover:before {color: black;}#sk-container-id-1 div.sk-estimator:hover label.sk-toggleable__label-arrow:before {color: black;}#sk-container-id-1 div.sk-toggleable__content {max-height: 0;max-width: 0;overflow: hidden;text-align: left;background-color: #f0f8ff;}#sk-container-id-1 div.sk-toggleable__content pre {margin: 0.2em;color: black;border-radius: 0.25em;background-color: #f0f8ff;}#sk-container-id-1 input.sk-toggleable__control:checked~div.sk-toggleable__content {max-height: 200px;max-width: 100%;overflow: auto;}#sk-container-id-1 input.sk-toggleable__control:checked~label.sk-toggleable__label-arrow:before {content: \"▾\";}#sk-container-id-1 div.sk-estimator input.sk-toggleable__control:checked~label.sk-toggleable__label {background-color: #d4ebff;}#sk-container-id-1 div.sk-label input.sk-toggleable__control:checked~label.sk-toggleable__label {background-color: #d4ebff;}#sk-container-id-1 input.sk-hidden--visually {border: 0;clip: rect(1px 1px 1px 1px);clip: rect(1px, 1px, 1px, 1px);height: 1px;margin: -1px;overflow: hidden;padding: 0;position: absolute;width: 1px;}#sk-container-id-1 div.sk-estimator {font-family: monospace;background-color: #f0f8ff;border: 1px dotted black;border-radius: 0.25em;box-sizing: border-box;margin-bottom: 0.5em;}#sk-container-id-1 div.sk-estimator:hover {background-color: #d4ebff;}#sk-container-id-1 div.sk-parallel-item::after {content: \"\";width: 100%;border-bottom: 1px solid gray;flex-grow: 1;}#sk-container-id-1 div.sk-label:hover label.sk-toggleable__label {background-color: #d4ebff;}#sk-container-id-1 div.sk-serial::before {content: \"\";position: absolute;border-left: 1px solid gray;box-sizing: border-box;top: 0;bottom: 0;left: 50%;z-index: 0;}#sk-container-id-1 div.sk-serial {display: flex;flex-direction: column;align-items: center;background-color: white;padding-right: 0.2em;padding-left: 0.2em;position: relative;}#sk-container-id-1 div.sk-item {position: relative;z-index: 1;}#sk-container-id-1 div.sk-parallel {display: flex;align-items: stretch;justify-content: center;background-color: white;position: relative;}#sk-container-id-1 div.sk-item::before, #sk-container-id-1 div.sk-parallel-item::before {content: \"\";position: absolute;border-left: 1px solid gray;box-sizing: border-box;top: 0;bottom: 0;left: 50%;z-index: -1;}#sk-container-id-1 div.sk-parallel-item {display: flex;flex-direction: column;z-index: 1;position: relative;background-color: white;}#sk-container-id-1 div.sk-parallel-item:first-child::after {align-self: flex-end;width: 50%;}#sk-container-id-1 div.sk-parallel-item:last-child::after {align-self: flex-start;width: 50%;}#sk-container-id-1 div.sk-parallel-item:only-child::after {width: 0;}#sk-container-id-1 div.sk-dashed-wrapped {border: 1px dashed gray;margin: 0 0.4em 0.5em 0.4em;box-sizing: border-box;padding-bottom: 0.4em;background-color: white;}#sk-container-id-1 div.sk-label label {font-family: monospace;font-weight: bold;display: inline-block;line-height: 1.2em;}#sk-container-id-1 div.sk-label-container {text-align: center;}#sk-container-id-1 div.sk-container {/* jupyter's `normalize.less` sets `[hidden] { display: none; }` but bootstrap.min.css set `[hidden] { display: none !important; }` so we also need the `!important` here to be able to override the default hidden behavior on the sphinx rendered scikit-learn.org. See: https://github.com/scikit-learn/scikit-learn/issues/21755 */display: inline-block !important;position: relative;}#sk-container-id-1 div.sk-text-repr-fallback {display: none;}</style><div id=\"sk-container-id-1\" class=\"sk-top-container\"><div class=\"sk-text-repr-fallback\"><pre>LogisticRegression(max_iter=10000, random_state=30)</pre><b>In a Jupyter environment, please rerun this cell to show the HTML representation or trust the notebook. <br />On GitHub, the HTML representation is unable to render, please try loading this page with nbviewer.org.</b></div><div class=\"sk-container\" hidden><div class=\"sk-item\"><div class=\"sk-estimator sk-toggleable\"><input class=\"sk-toggleable__control sk-hidden--visually\" id=\"sk-estimator-id-1\" type=\"checkbox\" checked><label for=\"sk-estimator-id-1\" class=\"sk-toggleable__label sk-toggleable__label-arrow\">LogisticRegression</label><div class=\"sk-toggleable__content\"><pre>LogisticRegression(max_iter=10000, random_state=30)</pre></div></div></div></div></div>"
      ],
      "text/plain": [
       "LogisticRegression(max_iter=10000, random_state=30)"
      ]
     },
     "execution_count": 20,
     "metadata": {},
     "output_type": "execute_result"
    }
   ],
   "source": [
    "logreg = LogisticRegression(max_iter=10000, random_state=30)\n",
    "logreg.fit(features, y_train)\n"
   ]
  },
  {
   "cell_type": "code",
   "execution_count": 21,
   "metadata": {},
   "outputs": [],
   "source": [
    "test_predictions = logreg.predict(test_features)"
   ]
  },
  {
   "cell_type": "code",
   "execution_count": 22,
   "metadata": {},
   "outputs": [
    {
     "data": {
      "text/plain": [
       "array([0, 5, 2, ..., 2, 0, 1], dtype=int64)"
      ]
     },
     "execution_count": 22,
     "metadata": {},
     "output_type": "execute_result"
    }
   ],
   "source": [
    "test_predictions"
   ]
  },
  {
   "cell_type": "code",
   "execution_count": 23,
   "metadata": {},
   "outputs": [],
   "source": [
    "from sklearn.metrics import accuracy_score, classification_report, log_loss\n",
    "\n",
    "test_probabilities = logreg.predict_proba(test_features)"
   ]
  },
  {
   "cell_type": "code",
   "execution_count": 24,
   "metadata": {},
   "outputs": [
    {
     "data": {
      "text/plain": [
       "array([[0.5431884 , 0.00975814, 0.03713044, ..., 0.04186907, 0.33320059,\n",
       "        0.02581842],\n",
       "       [0.17758603, 0.06797085, 0.10900534, ..., 0.243729  , 0.256681  ,\n",
       "        0.12331573],\n",
       "       [0.11150309, 0.0902038 , 0.21767591, ..., 0.14490299, 0.2171118 ,\n",
       "        0.14173732],\n",
       "       ...,\n",
       "       [0.14261939, 0.18871646, 0.28212644, ..., 0.13042379, 0.03979581,\n",
       "        0.13609877],\n",
       "       [0.24719123, 0.04991174, 0.14817091, ..., 0.23664959, 0.13227368,\n",
       "        0.13377606],\n",
       "       [0.06906247, 0.3224373 , 0.13015807, ..., 0.0417388 , 0.17055398,\n",
       "        0.10512794]])"
      ]
     },
     "execution_count": 24,
     "metadata": {},
     "output_type": "execute_result"
    }
   ],
   "source": [
    "test_probabilities"
   ]
  },
  {
   "cell_type": "code",
   "execution_count": 25,
   "metadata": {},
   "outputs": [],
   "source": [
    "\n",
    "probabilities_df = pd.DataFrame(test_probabilities, columns=['target_0', 'target_1',\n",
    "                                                             'target_2','target_3', 'target_4',\n",
    "                                                             'target_5','target_6'])\n",
    "probabilities_df['id'] = range(0, len(probabilities_df))\n",
    "probabilities_df = probabilities_df[['id', 'target_0', 'target_1',\n",
    "                                                             'target_2','target_3', 'target_4',\n",
    "                                                             'target_5','target_6']]\n",
    "probabilities_df.to_csv('test_probabilities.csv', index=False)"
   ]
  },
  {
   "cell_type": "markdown",
   "metadata": {},
   "source": [
    "## Decision Tree"
   ]
  },
  {
   "cell_type": "code",
   "execution_count": 26,
   "metadata": {},
   "outputs": [
    {
     "data": {
      "text/html": [
       "<style>#sk-container-id-2 {color: black;}#sk-container-id-2 pre{padding: 0;}#sk-container-id-2 div.sk-toggleable {background-color: white;}#sk-container-id-2 label.sk-toggleable__label {cursor: pointer;display: block;width: 100%;margin-bottom: 0;padding: 0.3em;box-sizing: border-box;text-align: center;}#sk-container-id-2 label.sk-toggleable__label-arrow:before {content: \"▸\";float: left;margin-right: 0.25em;color: #696969;}#sk-container-id-2 label.sk-toggleable__label-arrow:hover:before {color: black;}#sk-container-id-2 div.sk-estimator:hover label.sk-toggleable__label-arrow:before {color: black;}#sk-container-id-2 div.sk-toggleable__content {max-height: 0;max-width: 0;overflow: hidden;text-align: left;background-color: #f0f8ff;}#sk-container-id-2 div.sk-toggleable__content pre {margin: 0.2em;color: black;border-radius: 0.25em;background-color: #f0f8ff;}#sk-container-id-2 input.sk-toggleable__control:checked~div.sk-toggleable__content {max-height: 200px;max-width: 100%;overflow: auto;}#sk-container-id-2 input.sk-toggleable__control:checked~label.sk-toggleable__label-arrow:before {content: \"▾\";}#sk-container-id-2 div.sk-estimator input.sk-toggleable__control:checked~label.sk-toggleable__label {background-color: #d4ebff;}#sk-container-id-2 div.sk-label input.sk-toggleable__control:checked~label.sk-toggleable__label {background-color: #d4ebff;}#sk-container-id-2 input.sk-hidden--visually {border: 0;clip: rect(1px 1px 1px 1px);clip: rect(1px, 1px, 1px, 1px);height: 1px;margin: -1px;overflow: hidden;padding: 0;position: absolute;width: 1px;}#sk-container-id-2 div.sk-estimator {font-family: monospace;background-color: #f0f8ff;border: 1px dotted black;border-radius: 0.25em;box-sizing: border-box;margin-bottom: 0.5em;}#sk-container-id-2 div.sk-estimator:hover {background-color: #d4ebff;}#sk-container-id-2 div.sk-parallel-item::after {content: \"\";width: 100%;border-bottom: 1px solid gray;flex-grow: 1;}#sk-container-id-2 div.sk-label:hover label.sk-toggleable__label {background-color: #d4ebff;}#sk-container-id-2 div.sk-serial::before {content: \"\";position: absolute;border-left: 1px solid gray;box-sizing: border-box;top: 0;bottom: 0;left: 50%;z-index: 0;}#sk-container-id-2 div.sk-serial {display: flex;flex-direction: column;align-items: center;background-color: white;padding-right: 0.2em;padding-left: 0.2em;position: relative;}#sk-container-id-2 div.sk-item {position: relative;z-index: 1;}#sk-container-id-2 div.sk-parallel {display: flex;align-items: stretch;justify-content: center;background-color: white;position: relative;}#sk-container-id-2 div.sk-item::before, #sk-container-id-2 div.sk-parallel-item::before {content: \"\";position: absolute;border-left: 1px solid gray;box-sizing: border-box;top: 0;bottom: 0;left: 50%;z-index: -1;}#sk-container-id-2 div.sk-parallel-item {display: flex;flex-direction: column;z-index: 1;position: relative;background-color: white;}#sk-container-id-2 div.sk-parallel-item:first-child::after {align-self: flex-end;width: 50%;}#sk-container-id-2 div.sk-parallel-item:last-child::after {align-self: flex-start;width: 50%;}#sk-container-id-2 div.sk-parallel-item:only-child::after {width: 0;}#sk-container-id-2 div.sk-dashed-wrapped {border: 1px dashed gray;margin: 0 0.4em 0.5em 0.4em;box-sizing: border-box;padding-bottom: 0.4em;background-color: white;}#sk-container-id-2 div.sk-label label {font-family: monospace;font-weight: bold;display: inline-block;line-height: 1.2em;}#sk-container-id-2 div.sk-label-container {text-align: center;}#sk-container-id-2 div.sk-container {/* jupyter's `normalize.less` sets `[hidden] { display: none; }` but bootstrap.min.css set `[hidden] { display: none !important; }` so we also need the `!important` here to be able to override the default hidden behavior on the sphinx rendered scikit-learn.org. See: https://github.com/scikit-learn/scikit-learn/issues/21755 */display: inline-block !important;position: relative;}#sk-container-id-2 div.sk-text-repr-fallback {display: none;}</style><div id=\"sk-container-id-2\" class=\"sk-top-container\"><div class=\"sk-text-repr-fallback\"><pre>DecisionTreeClassifier(random_state=10)</pre><b>In a Jupyter environment, please rerun this cell to show the HTML representation or trust the notebook. <br />On GitHub, the HTML representation is unable to render, please try loading this page with nbviewer.org.</b></div><div class=\"sk-container\" hidden><div class=\"sk-item\"><div class=\"sk-estimator sk-toggleable\"><input class=\"sk-toggleable__control sk-hidden--visually\" id=\"sk-estimator-id-2\" type=\"checkbox\" checked><label for=\"sk-estimator-id-2\" class=\"sk-toggleable__label sk-toggleable__label-arrow\">DecisionTreeClassifier</label><div class=\"sk-toggleable__content\"><pre>DecisionTreeClassifier(random_state=10)</pre></div></div></div></div></div>"
      ],
      "text/plain": [
       "DecisionTreeClassifier(random_state=10)"
      ]
     },
     "execution_count": 26,
     "metadata": {},
     "output_type": "execute_result"
    }
   ],
   "source": [
    "from sklearn.tree import DecisionTreeClassifier\n",
    "\n",
    "decision_tree = DecisionTreeClassifier(random_state=10)  # You can set parameters like max_depth here\n",
    "decision_tree.fit(features, y_train)\n"
   ]
  },
  {
   "cell_type": "code",
   "execution_count": 27,
   "metadata": {},
   "outputs": [],
   "source": [
    "\n",
    "dt_test_predictions = decision_tree.predict(test_features)\n",
    "dt_test_probabilities = decision_tree.predict_proba(test_features)\n",
    "\n",
    "\n",
    "from sklearn.metrics import accuracy_score, classification_report, log_loss\n",
    "\n",
    "test_probabilities_dt = decision_tree.predict_proba(test_features)\n",
    "\n"
   ]
  },
  {
   "cell_type": "code",
   "execution_count": 28,
   "metadata": {},
   "outputs": [],
   "source": [
    "\n",
    "dt_probabilities_df = pd.DataFrame(test_probabilities_dt, columns=['target_0', 'target_1',\n",
    "                                                             'target_2','target_3', 'target_4',\n",
    "                                                             'target_5','target_6'])\n",
    "dt_probabilities_df['id'] = range(0, len(probabilities_df))\n",
    "dt_probabilities_df = probabilities_df[['id', 'target_0', 'target_1',\n",
    "                                                             'target_2','target_3', 'target_4',\n",
    "                                                             'target_5','target_6']]\n",
    "dt_probabilities_df.to_csv('dt_test_probabilities.csv', index=False)"
   ]
  },
  {
   "cell_type": "markdown",
   "metadata": {},
   "source": [
    "## Random Forest"
   ]
  },
  {
   "cell_type": "code",
   "execution_count": 29,
   "metadata": {},
   "outputs": [],
   "source": [
    "from sklearn.ensemble import RandomForestClassifier\n",
    "random_forest = RandomForestClassifier(n_estimators=200, random_state=0)\n",
    "random_forest.fit(features, y_train)\n",
    "rf_test_predictions = random_forest.predict(test_features)\n",
    "rf_test_probabilities = random_forest.predict_proba(test_features)"
   ]
  },
  {
   "cell_type": "code",
   "execution_count": 30,
   "metadata": {},
   "outputs": [],
   "source": [
    "\n",
    "rf_probabilities_df = pd.DataFrame(rf_test_probabilities, columns=['target_0', 'target_1',\n",
    "                                                             'target_2','target_3', 'target_4',\n",
    "                                                             'target_5','target_6'])\n",
    "rf_probabilities_df['id'] = range(0, len(probabilities_df))\n",
    "dt_probabilities_df = probabilities_df[['id', 'target_0', 'target_1',\n",
    "                                                             'target_2','target_3', 'target_4',\n",
    "                                                             'target_5','target_6']]\n",
    "rf_probabilities_df.to_csv('rf_test_probabilities.csv', index=False)"
   ]
  },
  {
   "cell_type": "markdown",
   "metadata": {},
   "source": [
    "## Gradient Boosting machine (XGBoost)"
   ]
  },
  {
   "cell_type": "code",
   "execution_count": 31,
   "metadata": {},
   "outputs": [],
   "source": [
    "import xgboost as xgb\n",
    "dtrain = xgb.DMatrix(features, label=y_train)\n",
    "dtest = xgb.DMatrix(test_features)\n"
   ]
  },
  {
   "cell_type": "code",
   "execution_count": 32,
   "metadata": {},
   "outputs": [],
   "source": [
    "num_classes = df['target'].nunique()\n",
    "\n",
    "params = {\n",
    "    'max_depth': 8,  \n",
    "    'eta': 0.1,      \n",
    "    'objective': 'multi:softprob',  \n",
    "    'num_class': num_classes,\n",
    "    'eval_metric': 'logloss' \n",
    "}\n",
    "num_rounds = 200  \n",
    "\n",
    "\n",
    "bst = xgb.train(params, dtrain, num_rounds)\n"
   ]
  },
  {
   "cell_type": "code",
   "execution_count": 33,
   "metadata": {},
   "outputs": [],
   "source": [
    "xgb_test_probabilities = bst.predict(dtest)\n",
    "probabilities_df_xgb = pd.DataFrame(xgb_test_probabilities, columns=[f'target_{i}' for i in range(num_classes)])\n",
    "probabilities_df_xgb['id'] = range(0, len(probabilities_df_xgb))\n",
    "\n",
    "probabilities_df_xgb = probabilities_df_xgb[['id'] + [f'target_{i}' for i in range(num_classes)]]\n",
    "probabilities_df_xgb.to_csv('xgboost_test_probabilities.csv', index=False)\n"
   ]
  },
  {
   "cell_type": "markdown",
   "metadata": {},
   "source": [
    "## SVM"
   ]
  },
  {
   "cell_type": "code",
   "execution_count": 37,
   "metadata": {},
   "outputs": [],
   "source": [
    "from sklearn.svm import SVC\n",
    "from sklearn.model_selection import GridSearchCV\n",
    "\n",
    "parameters = {\n",
    "    'C': [0.1, 1, 10, 100],  \n",
    "    'kernel': ['linear', 'rbf', 'poly'],\n",
    "    'gamma': ['scale', 'auto', 0.1, 1, 10, 100] \n",
    "}\n",
    "svm_model = SVC(probability=True)\n",
    "clf = GridSearchCV(svm_model, parameters, cv=5, scoring='neg_log_loss')\n",
    "clf.fit(features, y_train)\n",
    "test_predictions_svm = svm_model.predict(test_features)\n",
    "test_probabilities_svm = svm_model.predict_proba(test_features)"
   ]
  },
  {
   "cell_type": "code",
   "execution_count": 35,
   "metadata": {},
   "outputs": [],
   "source": [
    "\n",
    "svm_probabilities_df = pd.DataFrame(test_probabilities_svm, columns=['target_0', 'target_1',\n",
    "                                                             'target_2','target_3', 'target_4',\n",
    "                                                             'target_5','target_6'])\n",
    "svm_probabilities_df['id'] = range(0, len(svm_probabilities_df))\n",
    "svm_probabilities_df = probabilities_df[['id', 'target_0', 'target_1',\n",
    "                                                             'target_2','target_3', 'target_4',\n",
    "                                                             'target_5','target_6']]\n",
    "svm_probabilities_df.to_csv('svm_test_probabilities.csv', index=False)"
   ]
  },
  {
   "cell_type": "code",
   "execution_count": null,
   "metadata": {},
   "outputs": [],
   "source": []
  }
 ],
 "metadata": {
  "kernelspec": {
   "display_name": "env",
   "language": "python",
   "name": "python3"
  },
  "language_info": {
   "codemirror_mode": {
    "name": "ipython",
    "version": 3
   },
   "file_extension": ".py",
   "mimetype": "text/x-python",
   "name": "python",
   "nbconvert_exporter": "python",
   "pygments_lexer": "ipython3",
   "version": "3.8.18"
  },
  "orig_nbformat": 4
 },
 "nbformat": 4,
 "nbformat_minor": 2
}
